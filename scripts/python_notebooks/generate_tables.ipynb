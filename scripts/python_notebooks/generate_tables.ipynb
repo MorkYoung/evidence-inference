{
  "nbformat": 4,
  "nbformat_minor": 0,
  "metadata": {
    "colab": {
      "name": "generate_tables.ipynb",
      "version": "0.3.2",
      "provenance": []
    },
    "kernelspec": {
      "name": "python3",
      "display_name": "Python 3"
    },
    "accelerator": "GPU"
  },
  "cells": [
    {
      "metadata": {
        "id": "Gs1ep_gzc8Tx",
        "colab_type": "code",
        "colab": {
          "base_uri": "https://localhost:8080/",
          "height": 85
        },
        "outputId": "af5292ac-3979-44c9-b707-74c64147eb1e"
      },
      "cell_type": "code",
      "source": [
        "%cd /content/\n",
        "!git clone https://a80b7012a5c512ec3c6cb546626348b891f4f77f@github.com/bwallace/evidence-inference --branch \"span-location\"\n",
        "%cd /content/evidence-inference/scripts/generate_tables\n",
        "!git pull"
      ],
      "execution_count": 4,
      "outputs": [
        {
          "output_type": "stream",
          "text": [
            "/content\n",
            "fatal: destination path 'evidence-inference' already exists and is not an empty directory.\n",
            "/content/evidence-inference/scripts/generate_tables\n",
            "Already up to date.\n"
          ],
          "name": "stdout"
        }
      ]
    },
    {
      "metadata": {
        "id": "qoYzTmvpka_H",
        "colab_type": "code",
        "colab": {
          "base_uri": "https://localhost:8080/",
          "height": 425
        },
        "outputId": "31645360-6292-4902-c55f-51f4927824b3"
      },
      "cell_type": "code",
      "source": [
        "# http://pytorch.org/\n",
        "from os.path import exists\n",
        "from wheel.pep425tags import get_abbr_impl, get_impl_ver, get_abi_tag\n",
        "platform = '{}{}-{}'.format(get_abbr_impl(), get_impl_ver(), get_abi_tag())\n",
        "cuda_output = !ldconfig -p|grep cudart.so|sed -e 's/.*\\.\\([0-9]*\\)\\.\\([0-9]*\\)$/cu\\1\\2/'\n",
        "accelerator = cuda_output[0] if exists('/dev/nvidia0') else 'cpu'\n",
        "\n",
        "!pip install -q http://download.pytorch.org/whl/{accelerator}/torch-0.4.1-{platform}-linux_x86_64.whl torchvision\n",
        "!pip install tabulate\n",
        "!apt-get install libmysqlclient-dev\n",
        "!pip install MySQL-python\n",
        "!pip install https://github.com/clips/pattern/archive/python3.zip\n",
        "!pip install nltk\n",
        "!pip install spacy\n",
        "!python -m spacy download en\n",
        "import torch"
      ],
      "execution_count": 0,
      "outputs": [
        {
          "output_type": "stream",
          "text": [
            "Requirement already satisfied: tabulate in /usr/local/lib/python3.6/dist-packages (0.8.2)\n",
            "Reading package lists... Done\n",
            "Building dependency tree       \n",
            "Reading state information... Done\n",
            "libmysqlclient-dev is already the newest version (5.7.24-0ubuntu0.18.04.1).\n",
            "0 upgraded, 0 newly installed, 0 to remove and 7 not upgraded.\n",
            "Collecting MySQL-python\n",
            "  Using cached https://files.pythonhosted.org/packages/a5/e9/51b544da85a36a68debe7a7091f068d802fc515a3a202652828c73453cad/MySQL-python-1.2.5.zip\n",
            "    Complete output from command python setup.py egg_info:\n",
            "    Traceback (most recent call last):\n",
            "      File \"<string>\", line 1, in <module>\n",
            "      File \"/tmp/pip-install-fba7e75y/MySQL-python/setup.py\", line 13, in <module>\n",
            "        from setup_posix import get_config\n",
            "      File \"/tmp/pip-install-fba7e75y/MySQL-python/setup_posix.py\", line 2, in <module>\n",
            "        from ConfigParser import SafeConfigParser\n",
            "    ModuleNotFoundError: No module named 'ConfigParser'\n",
            "    \n",
            "    ----------------------------------------\n",
            "\u001b[31mCommand \"python setup.py egg_info\" failed with error code 1 in /tmp/pip-install-fba7e75y/MySQL-python/\u001b[0m\n",
            "Collecting https://github.com/clips/pattern/archive/python3.zip\n",
            "  Downloading https://github.com/clips/pattern/archive/python3.zip\n",
            "\u001b[K     \\ 23.0MB 68.2MB/s"
          ],
          "name": "stdout"
        }
      ]
    },
    {
      "metadata": {
        "id": "WsseEZQBc5D5",
        "colab_type": "code",
        "colab": {}
      },
      "cell_type": "code",
      "source": [
        "from generate_model_performance_table import gen_table_data, gen_latex_table\n",
        "table = gen_table_data()\n",
        "latex = gen_latex_table(table)"
      ],
      "execution_count": 0,
      "outputs": []
    }
  ]
}